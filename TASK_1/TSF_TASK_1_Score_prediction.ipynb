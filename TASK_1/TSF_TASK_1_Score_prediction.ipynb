{
  "nbformat": 4,
  "nbformat_minor": 0,
  "metadata": {
    "colab": {
      "name": "TSF-Task1.ipynb",
      "provenance": [],
      "collapsed_sections": []
    },
    "kernelspec": {
      "name": "python3",
      "display_name": "Python 3"
    },
    "language_info": {
      "name": "python"
    }
  },
  "cells": [
    {
      "cell_type": "markdown",
      "metadata": {
        "id": "FsFQkm6f6_gp"
      },
      "source": [
        "# <h7>Author - Vaibhavi Deepak Gawas</h7><br>\n",
        "# GRIP September 2021 - Sparks Foundation\n",
        "# Technical Task 1- Prediction Using Supervised ML(Linear Regression)\n",
        "\n",
        "\n"
      ]
    },
    {
      "cell_type": "markdown",
      "metadata": {
        "id": "5VJBFpqyTLtQ"
      },
      "source": [
        "In this task we will predict the percentage of marks that a student is expected to score based upon the number of hours they studied. This is a simple linear regression task as it involves just two variables.\n",
        "\n",
        "Steps Performed are:<br>\n",
        "1)Loading the Dataset<br>\n",
        "2)Analyzing the data<br>\n",
        "3)Visualizing the data<br>\n",
        "4)Preparing The Data<br>\n",
        "5)Model building and training<br> \n",
        "6)Prediction and Evaluation<br>\n"
      ]
    },
    {
      "cell_type": "markdown",
      "metadata": {
        "id": "oxxMErJLVQdQ"
      },
      "source": [
        "## 1. Loading Data:\n",
        "   This Dataset is downloaded from https://bit.ly/2HxiGGJ .This Dataset has 25 samples  with 2 Features. "
      ]
    },
    {
      "cell_type": "code",
      "metadata": {
        "id": "7YtwEjXDTFNT"
      },
      "source": [
        "# importing required Libraries\n",
        "import numpy as np\n",
        "import pandas as pd\n",
        "import matplotlib.pyplot as plt\n",
        "import seaborn as sns\n",
        "%matplotlib inline"
      ],
      "execution_count": null,
      "outputs": []
    },
    {
      "cell_type": "code",
      "metadata": {
        "colab": {
          "base_uri": "https://localhost:8080/",
          "height": 203
        },
        "id": "ockFtLxnU_7R",
        "outputId": "85ee8617-c88f-4945-d93a-02a3cb8226c2"
      },
      "source": [
        "#Loading Data from Dataset\n",
        "score_data = pd.read_csv('student_scores.csv')\n",
        "score_data.head()"
      ],
      "execution_count": null,
      "outputs": [
        {
          "output_type": "execute_result",
          "data": {
            "text/html": [
              "<div>\n",
              "<style scoped>\n",
              "    .dataframe tbody tr th:only-of-type {\n",
              "        vertical-align: middle;\n",
              "    }\n",
              "\n",
              "    .dataframe tbody tr th {\n",
              "        vertical-align: top;\n",
              "    }\n",
              "\n",
              "    .dataframe thead th {\n",
              "        text-align: right;\n",
              "    }\n",
              "</style>\n",
              "<table border=\"1\" class=\"dataframe\">\n",
              "  <thead>\n",
              "    <tr style=\"text-align: right;\">\n",
              "      <th></th>\n",
              "      <th>Hours</th>\n",
              "      <th>Scores</th>\n",
              "    </tr>\n",
              "  </thead>\n",
              "  <tbody>\n",
              "    <tr>\n",
              "      <th>0</th>\n",
              "      <td>2.5</td>\n",
              "      <td>21</td>\n",
              "    </tr>\n",
              "    <tr>\n",
              "      <th>1</th>\n",
              "      <td>5.1</td>\n",
              "      <td>47</td>\n",
              "    </tr>\n",
              "    <tr>\n",
              "      <th>2</th>\n",
              "      <td>3.2</td>\n",
              "      <td>27</td>\n",
              "    </tr>\n",
              "    <tr>\n",
              "      <th>3</th>\n",
              "      <td>8.5</td>\n",
              "      <td>75</td>\n",
              "    </tr>\n",
              "    <tr>\n",
              "      <th>4</th>\n",
              "      <td>3.5</td>\n",
              "      <td>30</td>\n",
              "    </tr>\n",
              "  </tbody>\n",
              "</table>\n",
              "</div>"
            ],
            "text/plain": [
              "   Hours  Scores\n",
              "0    2.5      21\n",
              "1    5.1      47\n",
              "2    3.2      27\n",
              "3    8.5      75\n",
              "4    3.5      30"
            ]
          },
          "metadata": {},
          "execution_count": 2
        }
      ]
    },
    {
      "cell_type": "markdown",
      "metadata": {
        "id": "PRpgCX2Icj35"
      },
      "source": [
        "## 2. Analyzing the Data<br>\n",
        " in this step we will use dataframe methode to take overview of data"
      ]
    },
    {
      "cell_type": "code",
      "metadata": {
        "colab": {
          "base_uri": "https://localhost:8080/"
        },
        "id": "EQgyVy1ncgsS",
        "outputId": "ed6d1640-b4c4-49d7-e057-421279dc2edd"
      },
      "source": [
        "# Shape of data\n",
        "score_data.shape"
      ],
      "execution_count": null,
      "outputs": [
        {
          "output_type": "execute_result",
          "data": {
            "text/plain": [
              "(25, 2)"
            ]
          },
          "metadata": {},
          "execution_count": 3
        }
      ]
    },
    {
      "cell_type": "code",
      "metadata": {
        "colab": {
          "base_uri": "https://localhost:8080/"
        },
        "id": "DNJCeBfqdwpE",
        "outputId": "70fdba9f-6dfa-4a09-83c0-59f834be935a"
      },
      "source": [
        "#List of features\n",
        "score_data.columns"
      ],
      "execution_count": null,
      "outputs": [
        {
          "output_type": "execute_result",
          "data": {
            "text/plain": [
              "Index(['Hours', 'Scores'], dtype='object')"
            ]
          },
          "metadata": {},
          "execution_count": 4
        }
      ]
    },
    {
      "cell_type": "code",
      "metadata": {
        "colab": {
          "base_uri": "https://localhost:8080/"
        },
        "id": "HEe5cwzKdTSA",
        "outputId": "322b41e5-0dfe-468b-e88f-80cfbe95ca89"
      },
      "source": [
        "#information about dataset\n",
        "score_data.info()"
      ],
      "execution_count": null,
      "outputs": [
        {
          "output_type": "stream",
          "name": "stdout",
          "text": [
            "<class 'pandas.core.frame.DataFrame'>\n",
            "RangeIndex: 25 entries, 0 to 24\n",
            "Data columns (total 2 columns):\n",
            " #   Column  Non-Null Count  Dtype  \n",
            "---  ------  --------------  -----  \n",
            " 0   Hours   25 non-null     float64\n",
            " 1   Scores  25 non-null     int64  \n",
            "dtypes: float64(1), int64(1)\n",
            "memory usage: 528.0 bytes\n"
          ]
        }
      ]
    },
    {
      "cell_type": "code",
      "metadata": {
        "colab": {
          "base_uri": "https://localhost:8080/",
          "height": 295
        },
        "id": "nrXrp_txewrj",
        "outputId": "3814fdd8-eb26-4830-b5c2-ea636ea9ff4c"
      },
      "source": [
        "# Description of dataset\n",
        "score_data.describe()"
      ],
      "execution_count": null,
      "outputs": [
        {
          "output_type": "execute_result",
          "data": {
            "text/html": [
              "<div>\n",
              "<style scoped>\n",
              "    .dataframe tbody tr th:only-of-type {\n",
              "        vertical-align: middle;\n",
              "    }\n",
              "\n",
              "    .dataframe tbody tr th {\n",
              "        vertical-align: top;\n",
              "    }\n",
              "\n",
              "    .dataframe thead th {\n",
              "        text-align: right;\n",
              "    }\n",
              "</style>\n",
              "<table border=\"1\" class=\"dataframe\">\n",
              "  <thead>\n",
              "    <tr style=\"text-align: right;\">\n",
              "      <th></th>\n",
              "      <th>Hours</th>\n",
              "      <th>Scores</th>\n",
              "    </tr>\n",
              "  </thead>\n",
              "  <tbody>\n",
              "    <tr>\n",
              "      <th>count</th>\n",
              "      <td>25.000000</td>\n",
              "      <td>25.000000</td>\n",
              "    </tr>\n",
              "    <tr>\n",
              "      <th>mean</th>\n",
              "      <td>5.012000</td>\n",
              "      <td>51.480000</td>\n",
              "    </tr>\n",
              "    <tr>\n",
              "      <th>std</th>\n",
              "      <td>2.525094</td>\n",
              "      <td>25.286887</td>\n",
              "    </tr>\n",
              "    <tr>\n",
              "      <th>min</th>\n",
              "      <td>1.100000</td>\n",
              "      <td>17.000000</td>\n",
              "    </tr>\n",
              "    <tr>\n",
              "      <th>25%</th>\n",
              "      <td>2.700000</td>\n",
              "      <td>30.000000</td>\n",
              "    </tr>\n",
              "    <tr>\n",
              "      <th>50%</th>\n",
              "      <td>4.800000</td>\n",
              "      <td>47.000000</td>\n",
              "    </tr>\n",
              "    <tr>\n",
              "      <th>75%</th>\n",
              "      <td>7.400000</td>\n",
              "      <td>75.000000</td>\n",
              "    </tr>\n",
              "    <tr>\n",
              "      <th>max</th>\n",
              "      <td>9.200000</td>\n",
              "      <td>95.000000</td>\n",
              "    </tr>\n",
              "  </tbody>\n",
              "</table>\n",
              "</div>"
            ],
            "text/plain": [
              "           Hours     Scores\n",
              "count  25.000000  25.000000\n",
              "mean    5.012000  51.480000\n",
              "std     2.525094  25.286887\n",
              "min     1.100000  17.000000\n",
              "25%     2.700000  30.000000\n",
              "50%     4.800000  47.000000\n",
              "75%     7.400000  75.000000\n",
              "max     9.200000  95.000000"
            ]
          },
          "metadata": {},
          "execution_count": 6
        }
      ]
    },
    {
      "cell_type": "code",
      "metadata": {
        "colab": {
          "base_uri": "https://localhost:8080/"
        },
        "id": "Ak9c3iiNfueI",
        "outputId": "0f491069-807a-4d94-df2b-27a61e3ec6dc"
      },
      "source": [
        "#Finding out missing Values\n",
        "score_data.isnull().sum()"
      ],
      "execution_count": null,
      "outputs": [
        {
          "output_type": "execute_result",
          "data": {
            "text/plain": [
              "Hours     0\n",
              "Scores    0\n",
              "dtype: int64"
            ]
          },
          "metadata": {},
          "execution_count": 7
        }
      ]
    },
    {
      "cell_type": "markdown",
      "metadata": {
        "id": "YQx5BrRlg3XK"
      },
      "source": [
        "There are no null values in our dataset"
      ]
    },
    {
      "cell_type": "code",
      "metadata": {
        "colab": {
          "base_uri": "https://localhost:8080/",
          "height": 110
        },
        "id": "4qeb5DaKhj7I",
        "outputId": "39a8da08-0128-4daf-d791-b1aa2f9e18cd"
      },
      "source": [
        "#Finding corelation between the data\n",
        "score_data.corr()"
      ],
      "execution_count": null,
      "outputs": [
        {
          "output_type": "execute_result",
          "data": {
            "text/html": [
              "<div>\n",
              "<style scoped>\n",
              "    .dataframe tbody tr th:only-of-type {\n",
              "        vertical-align: middle;\n",
              "    }\n",
              "\n",
              "    .dataframe tbody tr th {\n",
              "        vertical-align: top;\n",
              "    }\n",
              "\n",
              "    .dataframe thead th {\n",
              "        text-align: right;\n",
              "    }\n",
              "</style>\n",
              "<table border=\"1\" class=\"dataframe\">\n",
              "  <thead>\n",
              "    <tr style=\"text-align: right;\">\n",
              "      <th></th>\n",
              "      <th>Hours</th>\n",
              "      <th>Scores</th>\n",
              "    </tr>\n",
              "  </thead>\n",
              "  <tbody>\n",
              "    <tr>\n",
              "      <th>Hours</th>\n",
              "      <td>1.000000</td>\n",
              "      <td>0.976191</td>\n",
              "    </tr>\n",
              "    <tr>\n",
              "      <th>Scores</th>\n",
              "      <td>0.976191</td>\n",
              "      <td>1.000000</td>\n",
              "    </tr>\n",
              "  </tbody>\n",
              "</table>\n",
              "</div>"
            ],
            "text/plain": [
              "           Hours    Scores\n",
              "Hours   1.000000  0.976191\n",
              "Scores  0.976191  1.000000"
            ]
          },
          "metadata": {},
          "execution_count": 8
        }
      ]
    },
    {
      "cell_type": "markdown",
      "metadata": {
        "id": "FMIqL_lLhGaI"
      },
      "source": [
        "## 3. Visualizing the Data"
      ]
    },
    {
      "cell_type": "markdown",
      "metadata": {
        "id": "F5M950bahUUQ"
      },
      "source": [
        "In this step we can visualize the data to understand how data is distributed and how features are related to each other"
      ]
    },
    {
      "cell_type": "code",
      "metadata": {
        "colab": {
          "base_uri": "https://localhost:8080/",
          "height": 282
        },
        "id": "8MuohCR0iIJa",
        "outputId": "847b88a2-994a-4f21-db15-6f0383b5c729"
      },
      "source": [
        "#visualizng simple line graph\n",
        "score_data.plot()"
      ],
      "execution_count": null,
      "outputs": [
        {
          "output_type": "execute_result",
          "data": {
            "text/plain": [
              "<matplotlib.axes._subplots.AxesSubplot at 0x7f949ba31f50>"
            ]
          },
          "metadata": {},
          "execution_count": 9
        },
        {
          "output_type": "display_data",
          "data": {
            "image/png": "[encoded data removed]",
            "text/plain": [
              "<Figure size 432x288 with 1 Axes>"
            ]
          },
          "metadata": {
            "needs_background": "light"
          }
        }
      ]
    },
    {
      "cell_type": "code",
      "metadata": {
        "colab": {
          "base_uri": "https://localhost:8080/",
          "height": 286
        },
        "id": "FOSxcgDSiPmc",
        "outputId": "b884c3dd-9c79-4546-f223-dfc5a862a79c"
      },
      "source": [
        "sns.heatmap(score_data.corr())"
      ],
      "execution_count": null,
      "outputs": [
        {
          "output_type": "execute_result",
          "data": {
            "text/plain": [
              "<matplotlib.axes._subplots.AxesSubplot at 0x7f949b9a7310>"
            ]
          },
          "metadata": {},
          "execution_count": 10
        },
        {
          "output_type": "display_data",
          "data": {
            "image/png": "[encoded data removed]",
            "text/plain": [
              "<Figure size 432x288 with 2 Axes>"
            ]
          },
          "metadata": {
            "needs_background": "light"
          }
        }
      ]
    },
    {
      "cell_type": "code",
      "metadata": {
        "colab": {
          "base_uri": "https://localhost:8080/",
          "height": 312
        },
        "id": "5NwI7m2qiwSB",
        "outputId": "43368735-48b8-4d2a-97c6-abfd6cc76c7f"
      },
      "source": [
        "#scatter plot\n",
        "plt.scatter(score_data['Hours'],score_data['Scores'])\n",
        "plt.xlabel(\"Hours\")\n",
        "plt.ylabel(\"Scores\")\n",
        "plt.title(\"Hours vs Scores\")"
      ],
      "execution_count": null,
      "outputs": [
        {
          "output_type": "execute_result",
          "data": {
            "text/plain": [
              "Text(0.5, 1.0, 'Hours vs Scores')"
            ]
          },
          "metadata": {},
          "execution_count": 11
        },
        {
          "output_type": "display_data",
          "data": {
            "image/png": "[encoded data removed]",
            "text/plain": [
              "<Figure size 432x288 with 1 Axes>"
            ]
          },
          "metadata": {
            "needs_background": "light"
          }
        }
      ]
    },
    {
      "cell_type": "markdown",
      "metadata": {
        "id": "Du0p4d1ak6ha"
      },
      "source": [
        "## 4. Spliting the Data"
      ]
    },
    {
      "cell_type": "markdown",
      "metadata": {
        "id": "VE2X2rrglCkA"
      },
      "source": [
        "in this we will split our data for training and testing"
      ]
    },
    {
      "cell_type": "code",
      "metadata": {
        "id": "XUs-HNQ3lAQC"
      },
      "source": [
        "#spliting input and output\n",
        "X = score_data[['Hours']]\n",
        "y = score_data.drop('Hours',axis =1)"
      ],
      "execution_count": null,
      "outputs": []
    },
    {
      "cell_type": "code",
      "metadata": {
        "id": "7fVez8lDmh25"
      },
      "source": [
        "#spliting dataset into taining and testing (dividing ratio: 80:20)\n",
        "from sklearn.model_selection import train_test_split\n",
        "X_train,X_test,y_train,y_test = train_test_split(X,y,test_size = 0.2,random_state = 0)"
      ],
      "execution_count": null,
      "outputs": []
    },
    {
      "cell_type": "code",
      "metadata": {
        "colab": {
          "base_uri": "https://localhost:8080/"
        },
        "id": "IVg5-uUpoo7G",
        "outputId": "bb9ff351-8c8f-4538-916c-8296978fe22c"
      },
      "source": [
        "X_train.shape,X_test.shape"
      ],
      "execution_count": null,
      "outputs": [
        {
          "output_type": "execute_result",
          "data": {
            "text/plain": [
              "((20, 1), (5, 1))"
            ]
          },
          "metadata": {},
          "execution_count": 14
        }
      ]
    },
    {
      "cell_type": "markdown",
      "metadata": {
        "id": "HlYw749yqBNM"
      },
      "source": [
        "## 5. Model Building and Training"
      ]
    },
    {
      "cell_type": "markdown",
      "metadata": {
        "id": "nXUO-gOxtV1W"
      },
      "source": [
        "Supervised Machine Learning is most commanly used regression method where we give some values as input to model and predict output the main goal of this regression algorithm is to plot best fit-line or curve between the data.<br>\n",
        "Here we are using **Linear Reression Model** to train our Dataset"
      ]
    },
    {
      "cell_type": "code",
      "metadata": {
        "id": "uD2QwJ5LuFh9",
        "colab": {
          "base_uri": "https://localhost:8080/"
        },
        "outputId": "36895537-63bd-4cae-dc08-98f4a5a816b8"
      },
      "source": [
        "#importing linear regression model\n",
        "from sklearn.linear_model import LinearRegression\n",
        "\n",
        "#instantiate the model\n",
        "model  = LinearRegression()\n",
        "\n",
        "#fit the model\n",
        "model.fit(X_train,y_train)\n"
      ],
      "execution_count": null,
      "outputs": [
        {
          "output_type": "execute_result",
          "data": {
            "text/plain": [
              "LinearRegression(copy_X=True, fit_intercept=True, n_jobs=None, normalize=False)"
            ]
          },
          "metadata": {},
          "execution_count": 15
        }
      ]
    },
    {
      "cell_type": "markdown",
      "metadata": {
        "id": "_WyiEyonH8xK"
      },
      "source": [
        "## 6. Prediction and Evaluation "
      ]
    },
    {
      "cell_type": "code",
      "metadata": {
        "id": "pS5PztvxII40"
      },
      "source": [
        "#prediction using model\n",
        "y_train_prediction = model.predict(X_train)\n",
        "y_test_prediction = model.predict(X_test)"
      ],
      "execution_count": null,
      "outputs": []
    },
    {
      "cell_type": "code",
      "metadata": {
        "id": "EYbqxmd7ufLD"
      },
      "source": [
        "# Calculating accuracy of model\n",
        "acc_train = model.score(X_train,y_train)\n",
        "acc_test = model.score(X_test,y_test) "
      ],
      "execution_count": null,
      "outputs": []
    },
    {
      "cell_type": "code",
      "metadata": {
        "id": "PdzvxOYOxLHr"
      },
      "source": [
        "from sklearn.metrics import mean_squared_error\n",
        "\n",
        "#Calculating Root mean squared error(RMSE) \n",
        "rms_train = np.sqrt(mean_squared_error(y_train,y_train_prediction))\n",
        "rms_test = np.sqrt(mean_squared_error(y_test,y_test_prediction))"
      ],
      "execution_count": null,
      "outputs": []
    },
    {
      "cell_type": "code",
      "metadata": {
        "colab": {
          "base_uri": "https://localhost:8080/"
        },
        "id": "PLYwSJopywji",
        "outputId": "f37b956b-9721-4035-a869-0922ad641a28"
      },
      "source": [
        "print(\"Linear Regression Model : \")\n",
        "print(\"\\nAccuracy of Training Dataset : \",acc_train)\n",
        "print(\"Accuracy of testing dataset : \",acc_test)\n",
        "print(\"\\nRMSE of training dataset : \",rms_train)\n",
        "print(\"RMSE of testing dataset : \",rms_test)"
      ],
      "execution_count": null,
      "outputs": [
        {
          "output_type": "stream",
          "name": "stdout",
          "text": [
            "Linear Regression Model : \n",
            "\n",
            "Accuracy of Training Dataset :  0.9515510725211553\n",
            "Accuracy of testing dataset :  0.9454906892105354\n",
            "\n",
            "RMSE of training dataset :  5.558613350226344\n",
            "RMSE of testing dataset :  4.647447612100373\n"
          ]
        }
      ]
    },
    {
      "cell_type": "code",
      "metadata": {
        "colab": {
          "base_uri": "https://localhost:8080/",
          "height": 203
        },
        "id": "I2VIZzIYz0Pi",
        "outputId": "08806abb-9cb8-4513-c1d6-897efe89b953"
      },
      "source": [
        "#checking actual and predicted value\n",
        "predicted = y_test_prediction[:,0]\n",
        "actual = np.array(y_test['Scores'])\n",
        "df_dict = {\"Actual\":actual,\"Predicted\":predicted}\n",
        "df = pd.DataFrame(df_dict)\n",
        "df.head()\n"
      ],
      "execution_count": null,
      "outputs": [
        {
          "output_type": "execute_result",
          "data": {
            "text/html": [
              "<div>\n",
              "<style scoped>\n",
              "    .dataframe tbody tr th:only-of-type {\n",
              "        vertical-align: middle;\n",
              "    }\n",
              "\n",
              "    .dataframe tbody tr th {\n",
              "        vertical-align: top;\n",
              "    }\n",
              "\n",
              "    .dataframe thead th {\n",
              "        text-align: right;\n",
              "    }\n",
              "</style>\n",
              "<table border=\"1\" class=\"dataframe\">\n",
              "  <thead>\n",
              "    <tr style=\"text-align: right;\">\n",
              "      <th></th>\n",
              "      <th>Actual</th>\n",
              "      <th>Predicted</th>\n",
              "    </tr>\n",
              "  </thead>\n",
              "  <tbody>\n",
              "    <tr>\n",
              "      <th>0</th>\n",
              "      <td>20</td>\n",
              "      <td>16.884145</td>\n",
              "    </tr>\n",
              "    <tr>\n",
              "      <th>1</th>\n",
              "      <td>27</td>\n",
              "      <td>33.732261</td>\n",
              "    </tr>\n",
              "    <tr>\n",
              "      <th>2</th>\n",
              "      <td>69</td>\n",
              "      <td>75.357018</td>\n",
              "    </tr>\n",
              "    <tr>\n",
              "      <th>3</th>\n",
              "      <td>30</td>\n",
              "      <td>26.794801</td>\n",
              "    </tr>\n",
              "    <tr>\n",
              "      <th>4</th>\n",
              "      <td>62</td>\n",
              "      <td>60.491033</td>\n",
              "    </tr>\n",
              "  </tbody>\n",
              "</table>\n",
              "</div>"
            ],
            "text/plain": [
              "   Actual  Predicted\n",
              "0      20  16.884145\n",
              "1      27  33.732261\n",
              "2      69  75.357018\n",
              "3      30  26.794801\n",
              "4      62  60.491033"
            ]
          },
          "metadata": {},
          "execution_count": 20
        }
      ]
    },
    {
      "cell_type": "code",
      "metadata": {
        "colab": {
          "base_uri": "https://localhost:8080/",
          "height": 312
        },
        "id": "s77Ttem30yq3",
        "outputId": "b0747075-d0eb-4135-d1a1-6a62280e3662"
      },
      "source": [
        "# plotting our results (For Taining Data)\n",
        "plt.scatter(X_train,y_train,color= \"blue\")\n",
        "plt.plot(X_train,y_train_prediction,color=\"red\")\n",
        "plt.grid(True)\n",
        "plt.xlabel(\"Hours\")\n",
        "plt.ylabel(\"Score\")\n",
        "plt.title(\"Training Data (Hours vs Score)\")\n"
      ],
      "execution_count": null,
      "outputs": [
        {
          "output_type": "execute_result",
          "data": {
            "text/plain": [
              "Text(0.5, 1.0, 'Training Data (Hours vs Score)')"
            ]
          },
          "metadata": {},
          "execution_count": 21
        },
        {
          "output_type": "display_data",
          "data": {
            "image/png": "[encoded data removed]",
            "text/plain": [
              "<Figure size 432x288 with 1 Axes>"
            ]
          },
          "metadata": {
            "needs_background": "light"
          }
        }
      ]
    },
    {
      "cell_type": "code",
      "metadata": {
        "colab": {
          "base_uri": "https://localhost:8080/",
          "height": 312
        },
        "id": "1nlHuTO8Gg_N",
        "outputId": "4dbecee3-a279-40a9-e42f-a78702ca1375"
      },
      "source": [
        "# plotting our results (For Testing Dataset)\n",
        "plt.scatter(X_test,y_test,color= \"blue\")\n",
        "plt.plot(X_test,y_test_prediction,color=\"red\")\n",
        "plt.grid(True)\n",
        "plt.xlabel(\"Hours\")\n",
        "plt.ylabel(\"Score\")\n",
        "plt.title(\"Training Data (Hours vs Score)\")"
      ],
      "execution_count": null,
      "outputs": [
        {
          "output_type": "execute_result",
          "data": {
            "text/plain": [
              "Text(0.5, 1.0, 'Training Data (Hours vs Score)')"
            ]
          },
          "metadata": {},
          "execution_count": 22
        },
        {
          "output_type": "display_data",
          "data": {
            "image/png": "[encoded data removed]",
            "text/plain": [
              "<Figure size 432x288 with 1 Axes>"
            ]
          },
          "metadata": {
            "needs_background": "light"
          }
        }
      ]
    },
    {
      "cell_type": "code",
      "metadata": {
        "colab": {
          "base_uri": "https://localhost:8080/"
        },
        "id": "t23-p9ReHw1O",
        "outputId": "8aaefa9e-02e0-48e8-f2eb-6db37d6654fe"
      },
      "source": [
        "# using our model for predictions\n",
        "# 1. prdiction of score of student if he studies for 9.25 hrs/day\n",
        "\n",
        "output = model.predict([[9.25]])\n",
        "print(f\"The Score of student is {output[0][0]} if he studies for 9.25 hrs/day\")"
      ],
      "execution_count": null,
      "outputs": [
        {
          "output_type": "stream",
          "name": "stdout",
          "text": [
            "The Score of student is 93.69173248737539 if he studies for 9.25 hrs/day\n"
          ]
        }
      ]
    },
    {
      "cell_type": "markdown",
      "metadata": {
        "id": "a1RcRvtxqzp3"
      },
      "source": [
        "## Conclusion : "
      ]
    },
    {
      "cell_type": "markdown",
      "metadata": {
        "id": "a5tnhNCgq9cC"
      },
      "source": [
        "From this task I understood how we can use linear regression model to predict the output by giving set of some features as a input.Accuracy of this model comes as 94.55% and predicted output for score of student is 93.69% if he studies for 9.25 hrs/day."
      ]
    },
    {
      "cell_type": "code",
      "metadata": {
        "id": "T6CQn4yovVDh"
      },
      "source": [
        ""
      ],
      "execution_count": null,
      "outputs": []
    }
  ]
}